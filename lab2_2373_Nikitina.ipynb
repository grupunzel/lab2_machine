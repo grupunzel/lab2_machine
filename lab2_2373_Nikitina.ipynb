{
 "cells": [
  {
   "cell_type": "markdown",
   "id": "ad19499f-41f4-444c-9f20-74dfb3d203de",
   "metadata": {},
   "source": [
    "Ниже представлен датасет Abba Music Characteristics (Spotify) с сайта https://www.kaggle.com/datasets/thedevastator/abba-music-characteristics-spotify?resource=download. В данном датасете представлена информация насчет самых популярных песен (хитов) шведской группы ABBA на известной платформе Spotify. Все данные реальны. Большая часть данных - числовые значения, которые в дальнейшем будут использованы в ходе работы.\n",
    "\n",
    "Датасет включает в се6я следующие атрибуты:\n",
    "\n",
    "album - название альбома (String) \n",
    "track_number - трек-номер песни в альбоме (Integer) \n",
    "uri - уникальный идентификатор песни (String) \n",
    "acousticness - мера акустики песни (Float) \n",
    "danceability - насколько хорошо песня хороша для танцев (Float) \n",
    "energy - энергичность песни (Float) \n",
    "instrumentalness - инструментальность песни (Float) \n",
    "liveness - оригинальность песни (Float) \n",
    "loudness - громкость песни (Float) \n",
    "speechiness - мера кол-ва текста в песни (Float) \n",
    "tempo - темп песни (Float) \n",
    "valence - позитивность песни (Float) \n",
    "popularity - популярность песни (Integer) \n",
    "artist - исполнитель песни (String)"
   ]
  },
  {
   "cell_type": "code",
   "execution_count": 4,
   "id": "9974a10b-fce5-4d41-8e0c-b5b90e3b7022",
   "metadata": {},
   "outputs": [
    {
     "ename": "ModuleNotFoundError",
     "evalue": "No module named 'KMeans'",
     "output_type": "error",
     "traceback": [
      "\u001b[1;31m---------------------------------------------------------------------------\u001b[0m",
      "\u001b[1;31mModuleNotFoundError\u001b[0m                       Traceback (most recent call last)",
      "Cell \u001b[1;32mIn[4], line 3\u001b[0m\n\u001b[0;32m      1\u001b[0m \u001b[38;5;28;01mimport\u001b[39;00m \u001b[38;5;21;01mnumpy\u001b[39;00m \u001b[38;5;28;01mas\u001b[39;00m \u001b[38;5;21;01mnp\u001b[39;00m       \u001b[38;5;66;03m#импортируем нужные библиотеки\u001b[39;00m\n\u001b[0;32m      2\u001b[0m \u001b[38;5;28;01mimport\u001b[39;00m \u001b[38;5;21;01mpandas\u001b[39;00m \u001b[38;5;28;01mas\u001b[39;00m \u001b[38;5;21;01mpan\u001b[39;00m\n\u001b[1;32m----> 3\u001b[0m \u001b[38;5;28;01mimport\u001b[39;00m \u001b[38;5;21;01mKMeans\u001b[39;00m\n\u001b[0;32m      5\u001b[0m \u001b[38;5;28;01mimport\u001b[39;00m \u001b[38;5;21;01mmatplotlib\u001b[39;00m\u001b[38;5;21;01m.\u001b[39;00m\u001b[38;5;21;01mpyplot\u001b[39;00m \u001b[38;5;28;01mas\u001b[39;00m \u001b[38;5;21;01mplot\u001b[39;00m\n\u001b[0;32m      7\u001b[0m db \u001b[38;5;241m=\u001b[39m pan\u001b[38;5;241m.\u001b[39mread_csv(\u001b[38;5;124m'\u001b[39m\u001b[38;5;124mABBA_Hits_spotify.csv\u001b[39m\u001b[38;5;124m'\u001b[39m)     \u001b[38;5;66;03m#подключаем наш датасет\u001b[39;00m\n",
      "\u001b[1;31mModuleNotFoundError\u001b[0m: No module named 'KMeans'"
     ]
    }
   ],
   "source": [
    "import numpy as np       #импортируем нужные библиотеки\n",
    "import pandas as pan\n",
    "from sklearn.cluster import KMeans\n",
    "\n",
    "import matplotlib.pyplot as plot\n",
    "\n",
    "db = pan.read_csv('ABBA_Hits_spotify.csv')     #подключаем наш датасет\n",
    "db.head()"
   ]
  },
  {
   "cell_type": "markdown",
   "id": "4ac44524-e256-49c0-86d8-8e9a1691afe4",
   "metadata": {},
   "source": [
    "Добавим новый атрибут: мелодичность песни. Этот атрибут будет показывать, насколько мелодична песня, исходя из ее инструментальности и акустичности. Мелодичность = Инструментальность + Акустичность:"
   ]
  },
  {
   "cell_type": "code",
   "execution_count": null,
   "id": "941867c2-9a23-42b3-933d-a0dc8d335508",
   "metadata": {},
   "outputs": [],
   "source": [
    "db['melodicity'] = db['instrumentalness'] + db['acousticness']"
   ]
  },
  {
   "cell_type": "markdown",
   "id": "822f3826-db4d-497d-ae35-d28f3c14b75d",
   "metadata": {},
   "source": [
    "По результатам 1-й лабораторной работы дубликатов в датасете нет, как и пропущенных значений, и выбросов."
   ]
  },
  {
   "cell_type": "markdown",
   "id": "30e7aa55-c6fd-441a-a620-5aaf19eb60f4",
   "metadata": {},
   "source": [
    "Построим графики зависимостей одной переменной от другой:"
   ]
  },
  {
   "cell_type": "code",
   "execution_count": null,
   "id": "ce88b151-dcf5-482e-bebf-910b30c2a766",
   "metadata": {},
   "outputs": [],
   "source": [
    "def Dispersion(data_1, data_2):    #функция для отрисовки графика рассеивания\n",
    "    plot.figure(figsize=(10, 5));\n",
    "    plot.scatter(db[data_1], db[data_2])\n",
    "    plot.xlabel(data_1)\n",
    "    plot.ylabel(data_2)\n",
    "    plot.title('Dependency of ' + data_1 + ' on ' + data_2)\n",
    "\n",
    "\n",
    "print('Зависимость танцевальности песен от энергичности: ')\n",
    "print('Матрица корреляции: ', np.corrcoef(np.array(db['danceability']), np.array(db['energy'])))\n",
    "print('\\n\\n\\n')\n",
    "Dispersion('danceability', 'energy')\n",
    "\n",
    "\n",
    "print('Зависимость акустики песен от инструментальности: ')\n",
    "print('Матрица корреляции: ', np.corrcoef(np.array(db['acousticness']), np.array(db['instrumentalness'])))\n",
    "print('\\n\\n\\n')\n",
    "Dispersion('acousticness', 'instrumentalness')\n",
    "\n",
    "\n",
    "print('Зависимость популярности песен от оригинальности: ')\n",
    "print('Матрица корреляции: ', np.corrcoef(np.array(db['popularity']), np.array(db['liveness'])))\n",
    "print('\\n\\n\\n')\n",
    "Dispersion('popularity', 'liveness')\n",
    "\n",
    "\n",
    "print('Зависимость позитивности песен от темпа: ')\n",
    "print('Матрица корреляции: ', np.corrcoef(np.array(db['valence']), np.array(db['tempo'])))\n",
    "print('\\n\\n\\n')\n",
    "Dispersion('valence', 'tempo')\n",
    "\n",
    "\n",
    "print('Зависимость громкости песен от кол-ва текста: ')\n",
    "print('Матрица корреляции: ', np.corrcoef(np.array(db['loudness']), np.array(db['speechiness'])))\n",
    "print('\\n\\n\\n')\n",
    "Dispersion('loudness', 'speechiness')\n",
    "\n",
    "\n",
    "print('Зависимость мелодичности песен от инструментальности: ')\n",
    "print('Матрица корреляции: ', np.corrcoef(np.array(db['loudness']), np.array(db['speechiness'])))\n",
    "print('\\n\\n\\n')\n",
    "Dispersion('melodicity', 'instrumentalness')"
   ]
  },
  {
   "cell_type": "markdown",
   "id": "89954fb1-3f80-4079-bd87-43d910060816",
   "metadata": {},
   "source": [
    "Сделаем кластеризацию:"
   ]
  },
  {
   "cell_type": "code",
   "execution_count": null,
   "id": "35e0203c-5fb5-4060-8cd2-610d3a3864bb",
   "metadata": {},
   "outputs": [],
   "source": [
    "def Clustering(data1, data2):    #функция для отрисовки кластеризации\n",
    "    X = db[[data1, data2]].iloc[: , :].values\n",
    "    algorithm = (KMeans(n_clusters = 2, init='k-means++', n_init = 10, max_iter=300, tol=0.0001,  random_state= 111, algorithm='elkan') )\n",
    "    algorithm.fit(X)\n",
    "    labels5 = algorithm.labels_\n",
    "    centroids5 = algorithm.cluster_centers_\n",
    "    h = 0.02\n",
    "    x_min, x_max = X[:, 0].min() - 1, X[:, 0].max() + 1\n",
    "    y_min, y_max = X[:, 1].min() - 1, X[:, 1].max() + 1\n",
    "    xx, yy = np.meshgrid(np.arange(x_min, x_max, h), np.arange(y_min, y_max, h))\n",
    "    Z = algorithm.predict(np.c_[xx.ravel(), yy.ravel()])\n",
    "     \n",
    "    plot.figure(1, figsize = (15, 7))\n",
    "    plot.clf()\n",
    "    Z = Z.reshape(xx.shape)\n",
    "    plot.imshow(Z, interpolation='nearest',\n",
    "               extent=(xx.min(), xx.max(), yy.min(), yy.max()),\n",
    "               cmap = plot.cm.Pastel2, aspect = 'auto', origin='lower')\n",
    "    \n",
    "    plot.scatter(x = data1, y = data2, data = db, c = labels5, s = 200 )\n",
    "    plot.scatter(x = centroids5[:, 0], y = centroids5[:, 1], s = 300, c = 'red', alpha = 0.5)\n",
    "    plot.xlabel(data1)\n",
    "    plot.ylabel(data2)\n",
    "    plot.show()\n",
    "\n",
    "Clustering('danceability', 'energy')\n",
    "Clustering('acousticness', 'instrumentalness')\n",
    "Clustering('popularity', 'liveness')\n",
    "Clustering('valence', 'tempo')\n",
    "Clustering('loudness', 'speechiness')\n",
    "Clustering('melodicity', 'instrumentalness')"
   ]
  },
  {
   "cell_type": "markdown",
   "id": "5e8b4c1a-ee6c-4c7d-a90c-1d4301574555",
   "metadata": {},
   "source": [
    "Выводы: \n",
    "\n",
    "В данной лабораторной работе мы удалили все выбросы, дубликаты, а также пропущенные значения в каждом атрибуте.\n",
    "Также были построены графики зависимостей одной переменной от другой. Был изучен метод кластеризации KMeans, с помощью которого на графиках мы смогли выделить основные кластеры и описать их."
   ]
  }
 ],
 "metadata": {
  "kernelspec": {
   "display_name": "Python 3 (ipykernel)",
   "language": "python",
   "name": "python3"
  },
  "language_info": {
   "codemirror_mode": {
    "name": "ipython",
    "version": 3
   },
   "file_extension": ".py",
   "mimetype": "text/x-python",
   "name": "python",
   "nbconvert_exporter": "python",
   "pygments_lexer": "ipython3",
   "version": "3.9.10"
  }
 },
 "nbformat": 4,
 "nbformat_minor": 5
}
